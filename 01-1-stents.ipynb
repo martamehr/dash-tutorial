{
  "nbformat": 4,
  "nbformat_minor": 0,
  "metadata": {
    "celltoolbar": "Slideshow",
    "interpreter": {
      "hash": "d361e8bd3ab8be8f3ea65790adb41c2b64f49b1477d0d1af835155fecf213182"
    },
    "kernelspec": {
      "display_name": "Python 3",
      "language": "python",
      "name": "python3"
    },
    "language_info": {
      "codemirror_mode": {
        "name": "ipython",
        "version": 3
      },
      "file_extension": ".py",
      "mimetype": "text/x-python",
      "name": "python",
      "nbconvert_exporter": "python",
      "pygments_lexer": "ipython3",
      "version": "3.8.2"
    },
    "varInspector": {
      "cols": {
        "lenName": 16,
        "lenType": 16,
        "lenVar": 40
      },
      "kernels_config": {
        "python": {
          "delete_cmd_postfix": "",
          "delete_cmd_prefix": "del ",
          "library": "var_list.py",
          "varRefreshCmd": "print(var_dic_list())"
        },
        "r": {
          "delete_cmd_postfix": ") ",
          "delete_cmd_prefix": "rm(",
          "library": "var_list.r",
          "varRefreshCmd": "cat(var_dic_list()) "
        }
      },
      "types_to_exclude": [
        "module",
        "function",
        "builtin_function_or_method",
        "instance",
        "_Feature"
      ],
      "window_display": false
    },
    "colab": {
      "name": "01-1-stents.ipynb",
      "provenance": []
    }
  },
  "cells": [
    {
      "cell_type": "markdown",
      "metadata": {
        "id": "xQFY_WKOk4yW"
      },
      "source": [
        "# Case study: Using stents to prevent strokes"
      ]
    },
    {
      "cell_type": "markdown",
      "metadata": {
        "id": "PZRsTEDVk4yp"
      },
      "source": [
        "## Import data"
      ]
    },
    {
      "cell_type": "code",
      "metadata": {
        "colab": {
          "base_uri": "https://localhost:8080/",
          "height": 206
        },
        "id": "YOkgqTSIk4yq",
        "outputId": "7288c4c0-8699-4f43-c2ec-e021a78d269a"
      },
      "source": [
        "import pandas as pd\n",
        "\n",
        "df = pd.read_csv(\"https://raw.githubusercontent.com/kirenz/modern-statistics/main/data/stent.csv\")\n",
        "df.head()"
      ],
      "execution_count": 1,
      "outputs": [
        {
          "output_type": "execute_result",
          "data": {
            "text/html": [
              "<div>\n",
              "<style scoped>\n",
              "    .dataframe tbody tr th:only-of-type {\n",
              "        vertical-align: middle;\n",
              "    }\n",
              "\n",
              "    .dataframe tbody tr th {\n",
              "        vertical-align: top;\n",
              "    }\n",
              "\n",
              "    .dataframe thead th {\n",
              "        text-align: right;\n",
              "    }\n",
              "</style>\n",
              "<table border=\"1\" class=\"dataframe\">\n",
              "  <thead>\n",
              "    <tr style=\"text-align: right;\">\n",
              "      <th></th>\n",
              "      <th>group</th>\n",
              "      <th>outcome</th>\n",
              "      <th>time</th>\n",
              "    </tr>\n",
              "  </thead>\n",
              "  <tbody>\n",
              "    <tr>\n",
              "      <th>0</th>\n",
              "      <td>treatment</td>\n",
              "      <td>stroke</td>\n",
              "      <td>30 days</td>\n",
              "    </tr>\n",
              "    <tr>\n",
              "      <th>1</th>\n",
              "      <td>treatment</td>\n",
              "      <td>stroke</td>\n",
              "      <td>30 days</td>\n",
              "    </tr>\n",
              "    <tr>\n",
              "      <th>2</th>\n",
              "      <td>treatment</td>\n",
              "      <td>stroke</td>\n",
              "      <td>30 days</td>\n",
              "    </tr>\n",
              "    <tr>\n",
              "      <th>3</th>\n",
              "      <td>treatment</td>\n",
              "      <td>stroke</td>\n",
              "      <td>30 days</td>\n",
              "    </tr>\n",
              "    <tr>\n",
              "      <th>4</th>\n",
              "      <td>treatment</td>\n",
              "      <td>stroke</td>\n",
              "      <td>30 days</td>\n",
              "    </tr>\n",
              "  </tbody>\n",
              "</table>\n",
              "</div>"
            ],
            "text/plain": [
              "       group outcome     time\n",
              "0  treatment  stroke  30 days\n",
              "1  treatment  stroke  30 days\n",
              "2  treatment  stroke  30 days\n",
              "3  treatment  stroke  30 days\n",
              "4  treatment  stroke  30 days"
            ]
          },
          "metadata": {},
          "execution_count": 1
        }
      ]
    },
    {
      "cell_type": "markdown",
      "metadata": {
        "id": "6ICnkvw4k4yv"
      },
      "source": [
        "## Create a crosstable"
      ]
    },
    {
      "cell_type": "code",
      "metadata": {
        "colab": {
          "base_uri": "https://localhost:8080/",
          "height": 206
        },
        "id": "KzScWwXdk4yw",
        "outputId": "b7a03f9f-5142-459c-ce57-3a4e7d75f145"
      },
      "source": [
        "pd.crosstab(df.group, [df.time, df.outcome],  margins=True)"
      ],
      "execution_count": 2,
      "outputs": [
        {
          "output_type": "execute_result",
          "data": {
            "text/html": [
              "<div>\n",
              "<style scoped>\n",
              "    .dataframe tbody tr th:only-of-type {\n",
              "        vertical-align: middle;\n",
              "    }\n",
              "\n",
              "    .dataframe tbody tr th {\n",
              "        vertical-align: top;\n",
              "    }\n",
              "\n",
              "    .dataframe thead tr th {\n",
              "        text-align: left;\n",
              "    }\n",
              "\n",
              "    .dataframe thead tr:last-of-type th {\n",
              "        text-align: right;\n",
              "    }\n",
              "</style>\n",
              "<table border=\"1\" class=\"dataframe\">\n",
              "  <thead>\n",
              "    <tr>\n",
              "      <th>time</th>\n",
              "      <th colspan=\"2\" halign=\"left\">30 days</th>\n",
              "      <th colspan=\"2\" halign=\"left\">365 days</th>\n",
              "      <th>All</th>\n",
              "    </tr>\n",
              "    <tr>\n",
              "      <th>outcome</th>\n",
              "      <th>no event</th>\n",
              "      <th>stroke</th>\n",
              "      <th>no event</th>\n",
              "      <th>stroke</th>\n",
              "      <th></th>\n",
              "    </tr>\n",
              "    <tr>\n",
              "      <th>group</th>\n",
              "      <th></th>\n",
              "      <th></th>\n",
              "      <th></th>\n",
              "      <th></th>\n",
              "      <th></th>\n",
              "    </tr>\n",
              "  </thead>\n",
              "  <tbody>\n",
              "    <tr>\n",
              "      <th>control</th>\n",
              "      <td>214</td>\n",
              "      <td>13</td>\n",
              "      <td>199</td>\n",
              "      <td>28</td>\n",
              "      <td>454</td>\n",
              "    </tr>\n",
              "    <tr>\n",
              "      <th>treatment</th>\n",
              "      <td>191</td>\n",
              "      <td>33</td>\n",
              "      <td>179</td>\n",
              "      <td>45</td>\n",
              "      <td>448</td>\n",
              "    </tr>\n",
              "    <tr>\n",
              "      <th>All</th>\n",
              "      <td>405</td>\n",
              "      <td>46</td>\n",
              "      <td>378</td>\n",
              "      <td>73</td>\n",
              "      <td>902</td>\n",
              "    </tr>\n",
              "  </tbody>\n",
              "</table>\n",
              "</div>"
            ],
            "text/plain": [
              "time       30 days        365 days         All\n",
              "outcome   no event stroke no event stroke     \n",
              "group                                         \n",
              "control        214     13      199     28  454\n",
              "treatment      191     33      179     45  448\n",
              "All            405     46      378     73  902"
            ]
          },
          "metadata": {},
          "execution_count": 2
        }
      ]
    },
    {
      "cell_type": "markdown",
      "metadata": {
        "id": "gDWsVLdmk4yy"
      },
      "source": [
        "## Guided practice\n",
        "\n",
        "### Strokes in treatment group"
      ]
    },
    {
      "cell_type": "markdown",
      "metadata": {
        "id": "F5vl8iuPk4y0"
      },
      "source": [
        "Task A: Compute the proportion of patients in the treatment group who had a stroke by the end of their first year. "
      ]
    },
    {
      "cell_type": "markdown",
      "metadata": {
        "id": "f0fI_IMzk4y4"
      },
      "source": [
        "1) Calculate **group of interest**: \n",
        "\n",
        "- Patients in treatment group with stroke after 365 days"
      ]
    },
    {
      "cell_type": "code",
      "metadata": {
        "colab": {
          "base_uri": "https://localhost:8080/"
        },
        "id": "fF-jEHQmk4y6",
        "outputId": "fb8bf971-7a4f-4ba9-a4f2-5948fffa6c58"
      },
      "source": [
        "treatment_stroke_365 = df[(df[\"group\"] == \"treatment\") & \n",
        "                          (df[\"outcome\"] == \"stroke\") & \n",
        "                          (df[\"time\"] == \"365 days\")].count()\n",
        "\n",
        "print(\"Patients in treatment group with stroke after 365 days:\", \n",
        "       treatment_stroke_365[\"outcome\"])"
      ],
      "execution_count": 3,
      "outputs": [
        {
          "output_type": "stream",
          "name": "stdout",
          "text": [
            "Patients in treatment group with stroke after 365 days: 45\n"
          ]
        }
      ]
    },
    {
      "cell_type": "markdown",
      "metadata": {
        "id": "uazHQhqik4y9"
      },
      "source": [
        "2. Calculate **reference group**: \n",
        "\n",
        "- All patients in treatment group after 365 days"
      ]
    },
    {
      "cell_type": "code",
      "metadata": {
        "colab": {
          "base_uri": "https://localhost:8080/"
        },
        "id": "EfOti4OXk4y-",
        "outputId": "326f396c-148a-41d6-817a-df56b2aa0d29"
      },
      "source": [
        "treatment_365 = df[(df[\"group\"] == \"treatment\") & \n",
        "                   (df[\"time\"] == \"365 days\")].count()\n",
        "\n",
        "print(\"All patients in treatment group after 365 days:\", \n",
        "       treatment_365[\"outcome\"])"
      ],
      "execution_count": 4,
      "outputs": [
        {
          "output_type": "stream",
          "name": "stdout",
          "text": [
            "All patients in treatment group after 365 days: 224\n"
          ]
        }
      ]
    },
    {
      "cell_type": "markdown",
      "metadata": {
        "id": "bkuabj8Ik4zA"
      },
      "source": [
        "3. Calculate **proportion**: \n",
        "\n",
        "- Proportion of patients in the treatment group who had a stroke by the end of their first year"
      ]
    },
    {
      "cell_type": "code",
      "metadata": {
        "colab": {
          "base_uri": "https://localhost:8080/"
        },
        "id": "bCu4JVzik4zA",
        "outputId": "9b1eaa6c-de1b-4c28-db78-b3791c1a6d47"
      },
      "source": [
        "proportion = (treatment_stroke_365[\"outcome\"]/treatment_365[\"outcome\"]) * 100\n",
        "\n",
        "print(\"Proportion with stroke:\", proportion.round(0), \"%\")"
      ],
      "execution_count": 5,
      "outputs": [
        {
          "output_type": "stream",
          "name": "stdout",
          "text": [
            "Proportion with stroke: 20.0 %\n"
          ]
        }
      ]
    },
    {
      "cell_type": "markdown",
      "metadata": {
        "id": "8kz-rBSgk4zD"
      },
      "source": [
        "## Practice\n",
        "\n",
        "### Strokes in control group"
      ]
    },
    {
      "cell_type": "markdown",
      "metadata": {
        "id": "VQTJILQck4zE"
      },
      "source": [
        "Task B: Compute the proportion of patients in the control group who had a stroke by the end of their first year. "
      ]
    },
    {
      "cell_type": "markdown",
      "metadata": {
        "id": "lqPrsDiMk4zF"
      },
      "source": [
        "<font class=\"your_turn\">\n",
        "    <strong>Your Turn</strong>\n",
        "</font>\n",
        "\n",
        "1. Use the code examples from task A to compute the proportion. \n",
        "2. Compare the results of A and B. Are the results surprising?"
      ]
    },
    {
      "cell_type": "code",
      "metadata": {
        "colab": {
          "base_uri": "https://localhost:8080/"
        },
        "id": "ODFa2wJUoF_0",
        "outputId": "7818c350-6127-49e4-e7af-a8dd2c117f26"
      },
      "source": [
        "control_stroke_365 = df[(df[\"group\"] == \"control\") & \n",
        "                          (df[\"outcome\"] == \"stroke\") & \n",
        "                          (df[\"time\"] == \"365 days\")].count()\n",
        "\n",
        "print(\"Patients in control group with stroke after 365 days:\", \n",
        "       control_stroke_365[\"outcome\"])"
      ],
      "execution_count": 13,
      "outputs": [
        {
          "output_type": "stream",
          "name": "stdout",
          "text": [
            "Patients in control group with stroke after 365 days: 28\n"
          ]
        }
      ]
    },
    {
      "cell_type": "code",
      "metadata": {
        "colab": {
          "base_uri": "https://localhost:8080/"
        },
        "id": "xGp7CTTbpmH0",
        "outputId": "ea81a773-ed83-44a8-faba-d5330f34443f"
      },
      "source": [
        "control_365 = df[(df[\"group\"] == \"control\") & \n",
        "                   (df[\"time\"] == \"365 days\")].count()\n",
        "\n",
        "print(\"All patients in control group after 365 days:\", \n",
        "       control_365[\"outcome\"])"
      ],
      "execution_count": 14,
      "outputs": [
        {
          "output_type": "stream",
          "name": "stdout",
          "text": [
            "All patients in control group after 365 days: 227\n"
          ]
        }
      ]
    },
    {
      "cell_type": "code",
      "metadata": {
        "colab": {
          "base_uri": "https://localhost:8080/"
        },
        "id": "Lqh9fZ3ho1f2",
        "outputId": "3d45319b-f395-4048-9a06-132e6c609595"
      },
      "source": [
        "proportion = (control_stroke_365[\"outcome\"]/control_365[\"outcome\"]) * 100\n",
        "\n",
        "print(\"Proportion with stroke:\", proportion.round(0), \"%\")"
      ],
      "execution_count": 15,
      "outputs": [
        {
          "output_type": "stream",
          "name": "stdout",
          "text": [
            "Proportion with stroke: 12.0 %\n"
          ]
        }
      ]
    },
    {
      "cell_type": "markdown",
      "metadata": {
        "id": "LswWn4RuqDqD"
      },
      "source": [
        "12% sind richtig.\n",
        "**Are the results suprising?**\n",
        "Ergebnisse sind nicht überraschend, da Kontrollgruppe eine geringere Stroke% besitzt.\n"
      ]
    }
  ]
}